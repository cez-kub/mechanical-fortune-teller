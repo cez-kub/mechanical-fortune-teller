{
 "cells": [
  {
   "cell_type": "code",
   "execution_count": 18,
   "metadata": {},
   "outputs": [],
   "source": [
    "# Dependencies and libraries\n",
    "\n",
    "from dotenv import load_dotenv\n",
    "import os\n",
    "from atproto import Client\n",
    "\n",
    "# Load environment variables from the .env file\n",
    "load_dotenv()\n",
    "\n",
    "# Retrieve credentials from environment variables\n",
    "email = os.getenv('BLUESKY_EMAIL')\n",
    "password = os.getenv('BLUESKY_PASSWORD')"
   ]
  },
  {
   "cell_type": "code",
   "execution_count": 19,
   "metadata": {},
   "outputs": [
    {
     "name": "stdout",
     "output_type": "stream",
     "text": [
      "DID: did:plc:f6fle6xy5s4epqamivy45kfm\n",
      "Handle: mechfortuneteller.bsky.social\n",
      "Authentication successful!\n"
     ]
    }
   ],
   "source": [
    "# Initialize the client and log in securely\n",
    "client = Client()\n",
    "response = client.login(email, password)\n",
    "\n",
    "# Access and print the DID and handle directly\n",
    "did = response.did\n",
    "handle = response.handle\n",
    "\n",
    "print(f\"DID: {did}\")\n",
    "print(f\"Handle: {handle}\")\n",
    "\n",
    "print(\"Authentication successful!\")\n"
   ]
  },
  {
   "cell_type": "code",
   "execution_count": null,
   "metadata": {},
   "outputs": [],
   "source": [
    "# Test first post\n",
    "post = client.send_post('Hello world! I posted this via the Python SDK.')"
   ]
  },
  {
   "cell_type": "code",
   "execution_count": 16,
   "metadata": {},
   "outputs": [
    {
     "ename": "AttributeError",
     "evalue": "'Client' object has no attribute 'get_actor_posts'",
     "output_type": "error",
     "traceback": [
      "\u001b[0;31m---------------------------------------------------------------------------\u001b[0m",
      "\u001b[0;31mAttributeError\u001b[0m                            Traceback (most recent call last)",
      "Cell \u001b[0;32mIn[16], line 2\u001b[0m\n\u001b[1;32m      1\u001b[0m \u001b[38;5;66;03m# Fetch posts (assuming 'get_actor_posts' is valid in the context)\u001b[39;00m\n\u001b[0;32m----> 2\u001b[0m response \u001b[38;5;241m=\u001b[39m \u001b[43mclient\u001b[49m\u001b[38;5;241;43m.\u001b[39;49m\u001b[43mget_actor_posts\u001b[49m(handle\u001b[38;5;241m=\u001b[39m\u001b[38;5;124m\"\u001b[39m\u001b[38;5;124mmechfortuneteller.bsky.social\u001b[39m\u001b[38;5;124m\"\u001b[39m, limit\u001b[38;5;241m=\u001b[39m\u001b[38;5;241m10\u001b[39m)\n\u001b[1;32m      4\u001b[0m \u001b[38;5;66;03m# Process the posts\u001b[39;00m\n\u001b[1;32m      5\u001b[0m \u001b[38;5;28;01mfor\u001b[39;00m post \u001b[38;5;129;01min\u001b[39;00m response[\u001b[38;5;124m'\u001b[39m\u001b[38;5;124mposts\u001b[39m\u001b[38;5;124m'\u001b[39m]:\n\u001b[1;32m      6\u001b[0m     \u001b[38;5;66;03m# Check for the search term in post content\u001b[39;00m\n",
      "\u001b[0;31mAttributeError\u001b[0m: 'Client' object has no attribute 'get_actor_posts'"
     ]
    }
   ],
   "source": [
    "# Fetch posts (assuming 'get_actor_posts' is valid in the context)\n",
    "response = client.get_actor_posts(handle=\"mechfortuneteller.bsky.social\", limit=10)\n",
    "\n",
    "# Process the posts\n",
    "for post in response['posts']:\n",
    "    # Check for the search term in post content\n",
    "    content = post.get('text', '')\n",
    "    if 'water companies' in content.lower():\n",
    "        author = post['author']['displayName'] if 'author' in post else 'Unknown'\n",
    "        print(f\"Author: {author}\")\n",
    "        print(f\"Content: {content}\\n\")"
   ]
  }
 ],
 "metadata": {
  "kernelspec": {
   "display_name": "mechanical-fortune-teller",
   "language": "python",
   "name": "python3"
  },
  "language_info": {
   "codemirror_mode": {
    "name": "ipython",
    "version": 3
   },
   "file_extension": ".py",
   "mimetype": "text/x-python",
   "name": "python",
   "nbconvert_exporter": "python",
   "pygments_lexer": "ipython3",
   "version": "3.13.0"
  }
 },
 "nbformat": 4,
 "nbformat_minor": 2
}

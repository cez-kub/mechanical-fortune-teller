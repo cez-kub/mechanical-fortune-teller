{
 "cells": [
  {
   "cell_type": "code",
   "execution_count": 5,
   "metadata": {},
   "outputs": [],
   "source": [
    "# Dependencies and libraries\n",
    "\n",
    "from dotenv import load_dotenv\n",
    "import os\n",
    "from atproto import Client\n",
    "import requests\n",
    "import re\n",
    "import dns.resolver\n",
    "import sqlite3\n",
    "import aiohttp\n",
    "import asyncio\n",
    "\n",
    "# Load environment variables from the .env file\n",
    "load_dotenv()\n",
    "\n",
    "# Retrieve credentials from environment variables\n",
    "email = os.getenv('BLUESKY_EMAIL')\n",
    "password = os.getenv('BLUESKY_PASSWORD')"
   ]
  },
  {
   "cell_type": "code",
   "execution_count": 8,
   "metadata": {},
   "outputs": [
    {
     "name": "stdout",
     "output_type": "stream",
     "text": [
      "DID: did:plc:f6fle6xy5s4epqamivy45kfm\n",
      "Handle: mechfortuneteller.bsky.social\n",
      "Authentication successful!\n"
     ]
    }
   ],
   "source": [
    "# Initialize the client and log in securely\n",
    "client = Client(\"https://bsky.social\")\n",
    "response = client.login(email, password)\n",
    "\n",
    "# Access and print the DID and handle directly\n",
    "did = response.did\n",
    "handle = response.handle\n",
    "\n",
    "print(f\"DID: {did}\")\n",
    "print(f\"Handle: {handle}\")\n",
    "\n",
    "print(\"Authentication successful!\")\n"
   ]
  },
  {
   "cell_type": "code",
   "execution_count": 13,
   "metadata": {},
   "outputs": [
    {
     "ename": "AttributeError",
     "evalue": "'Client' object has no attribute 'get_user_profile'",
     "output_type": "error",
     "traceback": [
      "\u001b[0;31m---------------------------------------------------------------------------\u001b[0m",
      "\u001b[0;31mAttributeError\u001b[0m                            Traceback (most recent call last)",
      "Cell \u001b[0;32mIn[13], line 2\u001b[0m\n\u001b[1;32m      1\u001b[0m \u001b[38;5;66;03m# Fetch user profile details to look for federated server hints\u001b[39;00m\n\u001b[0;32m----> 2\u001b[0m user_profile \u001b[38;5;241m=\u001b[39m \u001b[43mclient\u001b[49m\u001b[38;5;241;43m.\u001b[39;49m\u001b[43mget_user_profile\u001b[49m(\u001b[38;5;124m\"\u001b[39m\u001b[38;5;124mmechfortuneteller\u001b[39m\u001b[38;5;124m\"\u001b[39m)\n\u001b[1;32m      3\u001b[0m \u001b[38;5;28mprint\u001b[39m(\u001b[38;5;124mf\u001b[39m\u001b[38;5;124m\"\u001b[39m\u001b[38;5;124mUser Profile for \u001b[39m\u001b[38;5;132;01m{\u001b[39;00musername\u001b[38;5;132;01m}\u001b[39;00m\u001b[38;5;124m:\u001b[39m\u001b[38;5;124m\"\u001b[39m)\n\u001b[1;32m      4\u001b[0m \u001b[38;5;28mprint\u001b[39m(user_profile)\n",
      "\u001b[0;31mAttributeError\u001b[0m: 'Client' object has no attribute 'get_user_profile'"
     ]
    }
   ],
   "source": [
    "# Fetch user profile details to look for federated server hints\n",
    "user_profile = client.get_user_profile(\"mechfortuneteller\")\n",
    "print(f\"User Profile for {username}:\")\n",
    "print(user_profile)"
   ]
  },
  {
   "cell_type": "code",
   "execution_count": 10,
   "metadata": {},
   "outputs": [
    {
     "ename": "AttributeError",
     "evalue": "'Client' object has no attribute 'describe_server'",
     "output_type": "error",
     "traceback": [
      "\u001b[0;31m---------------------------------------------------------------------------\u001b[0m",
      "\u001b[0;31mAttributeError\u001b[0m                            Traceback (most recent call last)",
      "Cell \u001b[0;32mIn[10], line 1\u001b[0m\n\u001b[0;32m----> 1\u001b[0m server_info \u001b[38;5;241m=\u001b[39m \u001b[43mclient\u001b[49m\u001b[38;5;241;43m.\u001b[39;49m\u001b[43mdescribe_server\u001b[49m()\n\u001b[1;32m      2\u001b[0m \u001b[38;5;28mprint\u001b[39m(\u001b[38;5;124m\"\u001b[39m\u001b[38;5;124mServer Metadata:\u001b[39m\u001b[38;5;124m\"\u001b[39m)\n\u001b[1;32m      3\u001b[0m \u001b[38;5;28mprint\u001b[39m(server_info)\n",
      "\u001b[0;31mAttributeError\u001b[0m: 'Client' object has no attribute 'describe_server'"
     ]
    }
   ],
   "source": [
    "server_info = client.describe_server()\n",
    "print(\"Server Metadata:\")\n",
    "print(server_info)"
   ]
  }
 ],
 "metadata": {
  "kernelspec": {
   "display_name": "mechanical-fortune-teller",
   "language": "python",
   "name": "python3"
  },
  "language_info": {
   "codemirror_mode": {
    "name": "ipython",
    "version": 3
   },
   "file_extension": ".py",
   "mimetype": "text/x-python",
   "name": "python",
   "nbconvert_exporter": "python",
   "pygments_lexer": "ipython3",
   "version": "3.13.0"
  }
 },
 "nbformat": 4,
 "nbformat_minor": 2
}
